{
 "cells": [
  {
   "cell_type": "code",
   "execution_count": 39,
   "outputs": [
    {
     "name": "stdout",
     "output_type": "stream",
     "text": [
      "Requirement already satisfied: haversine in /home/itc/.local/lib/python3.8/site-packages (2.5.1)\r\n"
     ]
    }
   ],
   "source": [
    "!pip install haversine"
   ],
   "metadata": {
    "collapsed": false,
    "pycharm": {
     "name": "#%%\n"
    }
   }
  },
  {
   "cell_type": "code",
   "execution_count": 40,
   "metadata": {
    "collapsed": true,
    "pycharm": {
     "name": "#%%\n"
    }
   },
   "outputs": [],
   "source": [
    "import os\n",
    "import csv\n",
    "from haversine import haversine, Unit"
   ]
  },
  {
   "cell_type": "code",
   "execution_count": 41,
   "outputs": [
    {
     "data": {
      "text/plain": "'/home/itc/Desktop/Hackhaton/object_locations.csv'"
     },
     "execution_count": 41,
     "metadata": {},
     "output_type": "execute_result"
    }
   ],
   "source": [
    "hackathon_file_path = 'Your_path'  ## Define your path here.\n",
    "gopro_360_file = 'object_locations.csv'\n",
    "absolute_path = os.path.join(hackathon_file_path, gopro_360_file)\n",
    "absolute_path"
   ],
   "metadata": {
    "collapsed": false,
    "pycharm": {
     "name": "#%%\n"
    }
   }
  },
  {
   "cell_type": "code",
   "execution_count": 42,
   "outputs": [
    {
     "data": {
      "text/plain": "<_csv.reader at 0x7f51a9f96190>"
     },
     "execution_count": 42,
     "metadata": {},
     "output_type": "execute_result"
    }
   ],
   "source": [
    "with open(absolute_path) as fd:\n",
    "    reader = csv.reader(fd)\n",
    "reader"
   ],
   "metadata": {
    "collapsed": false,
    "pycharm": {
     "name": "#%%\n"
    }
   }
  },
  {
   "cell_type": "code",
   "execution_count": 43,
   "outputs": [
    {
     "data": {
      "text/plain": "[['41.118621826', '28.803981781'],\n ['41.118686676', '28.804042816'],\n ['41.118579865', '28.804090500'],\n ['41.118545532', '28.804042816']]"
     },
     "execution_count": 43,
     "metadata": {},
     "output_type": "execute_result"
    }
   ],
   "source": [
    "with open(absolute_path) as fd:\n",
    "    reader = csv.reader(fd)\n",
    "    objects_which_is_ids_zero = [row for idx, row in enumerate(reader) if idx in (range(1, 5))] ##Obje konumlarını obje idlerine göre listeliyoruz.\n",
    "objects_which_is_ids_zero"
   ],
   "metadata": {
    "collapsed": false,
    "pycharm": {
     "name": "#%%\n"
    }
   }
  },
  {
   "cell_type": "code",
   "execution_count": 44,
   "outputs": [],
   "source": [
    "ground_truth_object_zero = [float(objects_which_is_ids_zero[0][0]), float(objects_which_is_ids_zero[0][0])] #İlk obje konumu"
   ],
   "metadata": {
    "collapsed": false,
    "pycharm": {
     "name": "#%%\n"
    }
   }
  },
  {
   "cell_type": "markdown",
   "source": [
    "Örnek olarak, tahmin ettiğiniz objenin lokasyonu (41.088570138103435, 28.786196708679196) olursa birinci objeye olan uzaklığını haversine fonksiyonunu kullanarak bulabilirsiniz. 5 metrenin altında olan sapmalar kabul edilebilir tahmin olacaktır."
   ],
   "metadata": {
    "collapsed": false,
    "pycharm": {
     "name": "#%% md\n"
    }
   }
  },
  {
   "cell_type": "code",
   "execution_count": 45,
   "outputs": [
    {
     "data": {
      "text/plain": "1032.4498781705506"
     },
     "execution_count": 45,
     "metadata": {},
     "output_type": "execute_result"
    }
   ],
   "source": [
    "prediction = [41.088570138103435, 28.786196708679196]\n",
    "distance = haversine(ground_truth_object_zero, prediction)\n",
    "distance"
   ],
   "metadata": {
    "collapsed": false,
    "pycharm": {
     "name": "#%%\n"
    }
   }
  },
  {
   "cell_type": "markdown",
   "source": [
    "Burada iki konum arasındaki mesafe bin metre olarak hesaplanmıştır. Bu da hatalı bir yaklaşımla hesaplama ve tahmin yapıldığını gösteriyor."
   ],
   "metadata": {
    "collapsed": false,
    "pycharm": {
     "name": "#%% md\n"
    }
   }
  }
 ],
 "metadata": {
  "kernelspec": {
   "display_name": "Python 3",
   "language": "python",
   "name": "python3"
  },
  "language_info": {
   "codemirror_mode": {
    "name": "ipython",
    "version": 2
   },
   "file_extension": ".py",
   "mimetype": "text/x-python",
   "name": "python",
   "nbconvert_exporter": "python",
   "pygments_lexer": "ipython2",
   "version": "2.7.6"
  }
 },
 "nbformat": 4,
 "nbformat_minor": 0
}