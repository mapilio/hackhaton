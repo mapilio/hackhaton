{
 "cells": [
  {
   "cell_type": "code",
   "execution_count": 26,
   "outputs": [
    {
     "name": "stdout",
     "output_type": "stream",
     "text": [
      "Requirement already satisfied: haversine in ./venv/lib/python3.10/site-packages (2.5.1)\r\n"
     ]
    }
   ],
   "source": [
    "!pip install haversine"
   ],
   "metadata": {
    "collapsed": false,
    "pycharm": {
     "name": "#%%\n"
    }
   }
  },
  {
   "cell_type": "code",
   "execution_count": 27,
   "metadata": {
    "collapsed": true,
    "pycharm": {
     "name": "#%%\n"
    }
   },
   "outputs": [],
   "source": [
    "import os\n",
    "import csv\n",
    "from haversine import haversine, Unit"
   ]
  },
  {
   "cell_type": "code",
   "execution_count": 28,
   "outputs": [
    {
     "data": {
      "text/plain": "'Hackhaton/object_locations.csv'"
     },
     "execution_count": 28,
     "metadata": {},
     "output_type": "execute_result"
    }
   ],
   "source": [
    "hackathon_file_path = 'Hackhaton/'  ## Define your path here.\n",
    "gopro_360_file = 'object_locations.csv'\n",
    "absolute_path = os.path.join(hackathon_file_path, gopro_360_file)\n",
    "absolute_path"
   ],
   "metadata": {
    "collapsed": false,
    "pycharm": {
     "name": "#%%\n"
    }
   }
  },
  {
   "cell_type": "code",
   "execution_count": 29,
   "outputs": [
    {
     "data": {
      "text/plain": "<_csv.reader at 0x7f6e1777d2a0>"
     },
     "execution_count": 29,
     "metadata": {},
     "output_type": "execute_result"
    }
   ],
   "source": [
    "with open(absolute_path) as fd:\n",
    "    reader = csv.reader(fd)\n",
    "reader"
   ],
   "metadata": {
    "collapsed": false,
    "pycharm": {
     "name": "#%%\n"
    }
   }
  },
  {
   "cell_type": "code",
   "execution_count": 30,
   "outputs": [
    {
     "data": {
      "text/plain": "[['41.118621826', '28.803981781'],\n ['41.118686676', '28.804042816'],\n ['41.118579865', '28.804090500'],\n ['41.118545532', '28.804042816']]"
     },
     "execution_count": 30,
     "metadata": {},
     "output_type": "execute_result"
    }
   ],
   "source": [
    "with open(absolute_path) as fd:\n",
    "    reader = csv.reader(fd)\n",
    "    objects_ground_truth = [row for idx, row in enumerate(reader) if idx in (range(1, 5))] ##Obje konumlarını obje idlerine göre listeliyoruz.\n",
    "objects_ground_truth"
   ],
   "metadata": {
    "collapsed": false,
    "pycharm": {
     "name": "#%%\n"
    }
   }
  },
  {
   "cell_type": "code",
   "execution_count": 31,
   "outputs": [
    {
     "data": {
      "text/plain": "[41.118621826, 28.803981781]"
     },
     "execution_count": 31,
     "metadata": {},
     "output_type": "execute_result"
    }
   ],
   "source": [
    "ground_truth_object_zero = [float(objects_ground_truth[0][0]), float(objects_ground_truth[0][1])] #İlk obje konumu\n",
    "ground_truth_object_zero"
   ],
   "metadata": {
    "collapsed": false,
    "pycharm": {
     "name": "#%%\n"
    }
   }
  },
  {
   "cell_type": "markdown",
   "source": [
    "Örnek olarak, tahmin ettiğiniz objenin lokasyonu (41.088570138103435, 28.786196708679196) olursa birinci objeye olan uzaklığını haversine fonksiyonunu kullanarak bulabilirsiniz. 5 metrenin altında olan sapmalar kabul edilebilir tahmin olacaktır."
   ],
   "metadata": {
    "collapsed": false,
    "pycharm": {
     "name": "#%% md\n"
    }
   }
  },
  {
   "cell_type": "code",
   "execution_count": 32,
   "outputs": [
    {
     "data": {
      "text/plain": "3.6588126982431053"
     },
     "execution_count": 32,
     "metadata": {},
     "output_type": "execute_result"
    }
   ],
   "source": [
    "prediction = [41.088570138103435, 28.786196708679196]\n",
    "distance = haversine(ground_truth_object_zero, prediction)\n",
    "distance"
   ],
   "metadata": {
    "collapsed": false,
    "pycharm": {
     "name": "#%%\n"
    }
   }
  },
  {
   "cell_type": "markdown",
   "source": [
    "Burada iki konum arasındaki mesafe bin metre olarak hesaplanmıştır. Bu da hatalı bir yaklaşımla hesaplama ve tahmin yapıldığını gösteriyor."
   ],
   "metadata": {
    "collapsed": false,
    "pycharm": {
     "name": "#%% md\n"
    }
   }
  },
  {
   "cell_type": "markdown",
   "source": [
    "Yaptığıınız tahminlerin hepsini bir csv dosyasına yazdırarak başarılarınızı ölçebilirsiniz."
   ],
   "metadata": {
    "collapsed": false,
    "pycharm": {
     "name": "#%% md\n"
    }
   }
  },
  {
   "cell_type": "code",
   "execution_count": 33,
   "outputs": [
    {
     "data": {
      "text/plain": "'Hackhaton/gopro360_predictions.csv'"
     },
     "execution_count": 33,
     "metadata": {},
     "output_type": "execute_result"
    }
   ],
   "source": [
    "object_prediction_file_name = 'gopro360_predictions.csv'\n",
    "predictions_full_path = os.path.join(hackathon_file_path, object_prediction_file_name)\n",
    "predictions_full_path"
   ],
   "metadata": {
    "collapsed": false,
    "pycharm": {
     "name": "#%%\n"
    }
   }
  },
  {
   "cell_type": "code",
   "execution_count": 34,
   "outputs": [
    {
     "data": {
      "text/plain": "[['41.1186199098272', '28.803981762'],\n ['41.11868666', '28.8040428'],\n ['41.11857987', '28.8040904'],\n ['41.118545547', '28.80404284']]"
     },
     "execution_count": 34,
     "metadata": {},
     "output_type": "execute_result"
    }
   ],
   "source": [
    "with open(predictions_full_path) as fd:\n",
    "    reader = csv.reader(fd)\n",
    "    gopro_360_predictions = [row for idx, row in enumerate(reader) if idx in (range(1, 5))] ##Obje konumlarını obje idlerine göre listeliyoruz.\n",
    "gopro_360_predictions"
   ],
   "metadata": {
    "collapsed": false,
    "pycharm": {
     "name": "#%%\n"
    }
   }
  },
  {
   "cell_type": "code",
   "execution_count": 36,
   "outputs": [
    {
     "name": "stdout",
     "output_type": "stream",
     "text": [
      "[['41.118621826', '28.803981781'], ['41.118686676', '28.804042816'], ['41.118579865', '28.804090500'], ['41.118545532', '28.804042816']]\n",
      "[['41.1186199098272', '28.803981762'], ['41.11868666', '28.8040428'], ['41.11857987', '28.8040904'], ['41.118545547', '28.80404284']]\n"
     ]
    }
   ],
   "source": [
    "print(objects_ground_truth)\n",
    "print(gopro_360_predictions)"
   ],
   "metadata": {
    "collapsed": false,
    "pycharm": {
     "name": "#%%\n"
    }
   }
  },
  {
   "cell_type": "code",
   "execution_count": 42,
   "outputs": [
    {
     "name": "stdout",
     "output_type": "stream",
     "text": [
      "0.00021307493272092567  meter\n",
      "2.2274817130895643e-06  meter\n",
      "8.395312987039765e-06  meter\n",
      "2.612259396411794e-06  meter\n"
     ]
    }
   ],
   "source": [
    "distances = []\n",
    "for object_id in range(len(objects_ground_truth)):\n",
    "    dist = haversine(list(map(float, objects_ground_truth[object_id])), list(map(float,gopro_360_predictions[object_id])))\n",
    "    print(f'{dist}  meter')"
   ],
   "metadata": {
    "collapsed": false,
    "pycharm": {
     "name": "#%%\n"
    }
   }
  },
  {
   "cell_type": "markdown",
   "source": [
    "Scoring"
   ],
   "metadata": {
    "collapsed": false,
    "pycharm": {
     "name": "#%% md\n"
    }
   }
  },
  {
   "cell_type": "code",
   "execution_count": null,
   "outputs": [],
   "source": [
    "distance = 5\n",
    "def calculate_score(distance):\n",
    "    if 1 >= distance >= 0:\n",
    "        return 100 - distance*5\n",
    "    elif 3 > distance >= 1:\n",
    "        return 95 - (distance-1)*7.5\n",
    "    elif 5 > distance >= 3:\n",
    "        return 80 - (distance-3)*10\n",
    "    elif 20 > distance >= 5:\n",
    "        return 60 - (distance-5)*4\n",
    "    elif distance>=20:\n",
    "        return 0\n",
    "calculate_score(distance)"
   ],
   "metadata": {
    "collapsed": false,
    "pycharm": {
     "name": "#%%\n",
     "is_executing": true
    }
   }
  },
  {
   "cell_type": "code",
   "execution_count": null,
   "outputs": [],
   "source": [],
   "metadata": {
    "collapsed": false,
    "pycharm": {
     "name": "#%%\n"
    }
   }
  }
 ],
 "metadata": {
  "kernelspec": {
   "display_name": "Python 3",
   "language": "python",
   "name": "python3"
  },
  "language_info": {
   "codemirror_mode": {
    "name": "ipython",
    "version": 2
   },
   "file_extension": ".py",
   "mimetype": "text/x-python",
   "name": "python",
   "nbconvert_exporter": "python",
   "pygments_lexer": "ipython2",
   "version": "2.7.6"
  }
 },
 "nbformat": 4,
 "nbformat_minor": 0
}